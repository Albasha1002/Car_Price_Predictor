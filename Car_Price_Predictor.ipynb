{
  "metadata": {
    "language_info": {
      "codemirror_mode": {
        "name": "python",
        "version": 3
      },
      "file_extension": ".py",
      "mimetype": "text/x-python",
      "name": "python",
      "nbconvert_exporter": "python",
      "pygments_lexer": "ipython3",
      "version": "3.8"
    },
    "kernelspec": {
      "name": "python",
      "display_name": "Python (Pyodide)",
      "language": "python"
    }
  },
  "nbformat_minor": 4,
  "nbformat": 4,
  "cells": [
    {
      "cell_type": "code",
      "source": "import pandas as pdw",
      "metadata": {
        "trusted": true
      },
      "execution_count": 320,
      "outputs": []
    },
    {
      "cell_type": "code",
      "source": "import numpy as npy",
      "metadata": {
        "trusted": true
      },
      "execution_count": 341,
      "outputs": []
    },
    {
      "cell_type": "code",
      "source": "car=pdw.read_csv('notebooks/quikr_car.csv')",
      "metadata": {
        "trusted": true
      },
      "execution_count": 322,
      "outputs": []
    },
    {
      "cell_type": "code",
      "source": "car.info()",
      "metadata": {
        "trusted": true
      },
      "execution_count": 323,
      "outputs": [
        {
          "name": "stdout",
          "text": "<class 'pandas.core.frame.DataFrame'>\nRangeIndex: 892 entries, 0 to 891\nData columns (total 6 columns):\n #   Column      Non-Null Count  Dtype \n---  ------      --------------  ----- \n 0   name        892 non-null    object\n 1   company     892 non-null    object\n 2   year        892 non-null    object\n 3   Price       892 non-null    object\n 4   kms_driven  840 non-null    object\n 5   fuel_type   837 non-null    object\ndtypes: object(6)\nmemory usage: 21.0+ KB\n",
          "output_type": "stream"
        }
      ]
    },
    {
      "cell_type": "code",
      "source": "car.shape",
      "metadata": {
        "trusted": true
      },
      "execution_count": 6,
      "outputs": [
        {
          "execution_count": 6,
          "output_type": "execute_result",
          "data": {
            "text/plain": "(892, 6)"
          },
          "metadata": {}
        }
      ]
    },
    {
      "cell_type": "raw",
      "source": "backup=car.copy()",
      "metadata": {}
    },
    {
      "cell_type": "code",
      "source": "backup=car.copy()",
      "metadata": {
        "trusted": true
      },
      "execution_count": 324,
      "outputs": []
    },
    {
      "cell_type": "code",
      "source": "backup.shape",
      "metadata": {
        "trusted": true
      },
      "execution_count": 9,
      "outputs": [
        {
          "execution_count": 9,
          "output_type": "execute_result",
          "data": {
            "text/plain": "(892, 6)"
          },
          "metadata": {}
        }
      ]
    },
    {
      "cell_type": "code",
      "source": "backup.info()",
      "metadata": {
        "trusted": true
      },
      "execution_count": 10,
      "outputs": [
        {
          "name": "stdout",
          "text": "<class 'pandas.core.frame.DataFrame'>\nRangeIndex: 892 entries, 0 to 891\nData columns (total 6 columns):\n #   Column      Non-Null Count  Dtype \n---  ------      --------------  ----- \n 0   name        892 non-null    object\n 1   company     892 non-null    object\n 2   year        892 non-null    object\n 3   Price       892 non-null    object\n 4   kms_driven  840 non-null    object\n 5   fuel_type   837 non-null    object\ndtypes: object(6)\nmemory usage: 21.0+ KB\n",
          "output_type": "stream"
        }
      ]
    },
    {
      "cell_type": "code",
      "source": "#Clean",
      "metadata": {},
      "execution_count": null,
      "outputs": []
    },
    {
      "cell_type": "code",
      "source": "car['year']=car['year'].str.isnumeric()",
      "metadata": {
        "trusted": true
      },
      "execution_count": 325,
      "outputs": []
    },
    {
      "cell_type": "code",
      "source": "car['year']=car['year'].astype(int)",
      "metadata": {
        "trusted": true
      },
      "execution_count": 326,
      "outputs": []
    },
    {
      "cell_type": "code",
      "source": "car=car[car['Price']!=\"Ask For Price\"]",
      "metadata": {
        "trusted": true
      },
      "execution_count": 327,
      "outputs": []
    },
    {
      "cell_type": "code",
      "source": "car['Price']=car['Price'].str.replace(',','').astype(int)",
      "metadata": {
        "trusted": true
      },
      "execution_count": 328,
      "outputs": []
    },
    {
      "cell_type": "code",
      "source": "car['kms_driven']=car['kms_driven'].str.replace(',','').str.split(' ').str.get(0)",
      "metadata": {
        "trusted": true
      },
      "execution_count": 329,
      "outputs": []
    },
    {
      "cell_type": "code",
      "source": "car['kms_driven']=car['kms_driven'].str.replace('Petrol','30')",
      "metadata": {
        "trusted": true
      },
      "execution_count": 330,
      "outputs": []
    },
    {
      "cell_type": "code",
      "source": "car['kms_driven']=car['kms_driven'].dropna()",
      "metadata": {
        "trusted": true
      },
      "execution_count": 347,
      "outputs": []
    },
    {
      "cell_type": "code",
      "source": "car.shape",
      "metadata": {
        "trusted": true
      },
      "execution_count": 317,
      "outputs": [
        {
          "execution_count": 317,
          "output_type": "execute_result",
          "data": {
            "text/plain": "(857, 6)"
          },
          "metadata": {}
        }
      ]
    },
    {
      "cell_type": "code",
      "source": "car.info()",
      "metadata": {
        "trusted": true
      },
      "execution_count": 334,
      "outputs": [
        {
          "name": "stdout",
          "text": "<class 'pandas.core.frame.DataFrame'>\nInt64Index: 857 entries, 0 to 891\nData columns (total 6 columns):\n #   Column      Non-Null Count  Dtype \n---  ------      --------------  ----- \n 0   name        857 non-null    object\n 1   company     857 non-null    object\n 2   year        857 non-null    int32 \n 3   Price       857 non-null    int32 \n 4   kms_driven  819 non-null    object\n 5   fuel_type   816 non-null    object\ndtypes: int32(2), object(4)\nmemory usage: 26.8+ KB\n",
          "output_type": "stream"
        }
      ]
    },
    {
      "cell_type": "code",
      "source": "car['kms_driven']=car['kms_driven'].dropna()",
      "metadata": {
        "trusted": true
      },
      "execution_count": 351,
      "outputs": []
    },
    {
      "cell_type": "code",
      "source": "car['kms_driven']=car['kms_driven'].dropna().astype(int)",
      "metadata": {
        "trusted": true
      },
      "execution_count": 362,
      "outputs": []
    },
    {
      "cell_type": "code",
      "source": "car['kms_driven']=car['kms_driven'].fillna(0).astype(int)",
      "metadata": {
        "trusted": true
      },
      "execution_count": 381,
      "outputs": []
    },
    {
      "cell_type": "code",
      "source": "car.info()",
      "metadata": {
        "trusted": true
      },
      "execution_count": 383,
      "outputs": [
        {
          "name": "stdout",
          "text": "<class 'pandas.core.frame.DataFrame'>\nInt64Index: 857 entries, 0 to 891\nData columns (total 6 columns):\n #   Column      Non-Null Count  Dtype \n---  ------      --------------  ----- \n 0   name        857 non-null    object\n 1   company     857 non-null    object\n 2   year        857 non-null    int32 \n 3   Price       857 non-null    int32 \n 4   kms_driven  857 non-null    int32 \n 5   fuel_type   816 non-null    object\ndtypes: int32(3), object(3)\nmemory usage: 26.8+ KB\n",
          "output_type": "stream"
        }
      ]
    },
    {
      "cell_type": "code",
      "source": "car=car[~car['fuel_type'].isna()]",
      "metadata": {
        "trusted": true
      },
      "execution_count": 385,
      "outputs": []
    },
    {
      "cell_type": "code",
      "source": "car['fuel_type']",
      "metadata": {
        "trusted": true
      },
      "execution_count": 386,
      "outputs": [
        {
          "execution_count": 386,
          "output_type": "execute_result",
          "data": {
            "text/plain": "0      Petrol\n1      Diesel\n3      Petrol\n4      Diesel\n6      Diesel\n        ...  \n883    Petrol\n885    Diesel\n886    Petrol\n888    Diesel\n889    Diesel\nName: fuel_type, Length: 816, dtype: object"
          },
          "metadata": {}
        }
      ]
    },
    {
      "cell_type": "code",
      "source": "car['name']=car['name'].str.split(' ').str.slice(0,3).str.join(' ')",
      "metadata": {
        "trusted": true
      },
      "execution_count": 392,
      "outputs": []
    },
    {
      "cell_type": "code",
      "source": "car",
      "metadata": {
        "trusted": true
      },
      "execution_count": 393,
      "outputs": [
        {
          "execution_count": 393,
          "output_type": "execute_result",
          "data": {
            "text/plain": "                       name   company  year   Price  kms_driven fuel_type\n0       Hyundai Santro Xing   Hyundai     1   80000       45000    Petrol\n1       Mahindra Jeep CL550  Mahindra     1  425000          40    Diesel\n3         Hyundai Grand i10   Hyundai     1  325000       28000    Petrol\n4    Ford EcoSport Titanium      Ford     1  575000       36000    Diesel\n6                 Ford Figo      Ford     1  175000       41000    Diesel\n..                      ...       ...   ...     ...         ...       ...\n883      Maruti Suzuki Ritz    Maruti     1  270000       50000    Petrol\n885          Tata Indica V2      Tata     1  110000       30000    Diesel\n886    Toyota Corolla Altis    Toyota     1  300000      132000    Petrol\n888            Tata Zest XM      Tata     1  260000       27000    Diesel\n889      Mahindra Quanto C8  Mahindra     1  390000       40000    Diesel\n\n[816 rows x 6 columns]",
            "text/html": "<div>\n<style scoped>\n    .dataframe tbody tr th:only-of-type {\n        vertical-align: middle;\n    }\n\n    .dataframe tbody tr th {\n        vertical-align: top;\n    }\n\n    .dataframe thead th {\n        text-align: right;\n    }\n</style>\n<table border=\"1\" class=\"dataframe\">\n  <thead>\n    <tr style=\"text-align: right;\">\n      <th></th>\n      <th>name</th>\n      <th>company</th>\n      <th>year</th>\n      <th>Price</th>\n      <th>kms_driven</th>\n      <th>fuel_type</th>\n    </tr>\n  </thead>\n  <tbody>\n    <tr>\n      <th>0</th>\n      <td>Hyundai Santro Xing</td>\n      <td>Hyundai</td>\n      <td>1</td>\n      <td>80000</td>\n      <td>45000</td>\n      <td>Petrol</td>\n    </tr>\n    <tr>\n      <th>1</th>\n      <td>Mahindra Jeep CL550</td>\n      <td>Mahindra</td>\n      <td>1</td>\n      <td>425000</td>\n      <td>40</td>\n      <td>Diesel</td>\n    </tr>\n    <tr>\n      <th>3</th>\n      <td>Hyundai Grand i10</td>\n      <td>Hyundai</td>\n      <td>1</td>\n      <td>325000</td>\n      <td>28000</td>\n      <td>Petrol</td>\n    </tr>\n    <tr>\n      <th>4</th>\n      <td>Ford EcoSport Titanium</td>\n      <td>Ford</td>\n      <td>1</td>\n      <td>575000</td>\n      <td>36000</td>\n      <td>Diesel</td>\n    </tr>\n    <tr>\n      <th>6</th>\n      <td>Ford Figo</td>\n      <td>Ford</td>\n      <td>1</td>\n      <td>175000</td>\n      <td>41000</td>\n      <td>Diesel</td>\n    </tr>\n    <tr>\n      <th>...</th>\n      <td>...</td>\n      <td>...</td>\n      <td>...</td>\n      <td>...</td>\n      <td>...</td>\n      <td>...</td>\n    </tr>\n    <tr>\n      <th>883</th>\n      <td>Maruti Suzuki Ritz</td>\n      <td>Maruti</td>\n      <td>1</td>\n      <td>270000</td>\n      <td>50000</td>\n      <td>Petrol</td>\n    </tr>\n    <tr>\n      <th>885</th>\n      <td>Tata Indica V2</td>\n      <td>Tata</td>\n      <td>1</td>\n      <td>110000</td>\n      <td>30000</td>\n      <td>Diesel</td>\n    </tr>\n    <tr>\n      <th>886</th>\n      <td>Toyota Corolla Altis</td>\n      <td>Toyota</td>\n      <td>1</td>\n      <td>300000</td>\n      <td>132000</td>\n      <td>Petrol</td>\n    </tr>\n    <tr>\n      <th>888</th>\n      <td>Tata Zest XM</td>\n      <td>Tata</td>\n      <td>1</td>\n      <td>260000</td>\n      <td>27000</td>\n      <td>Diesel</td>\n    </tr>\n    <tr>\n      <th>889</th>\n      <td>Mahindra Quanto C8</td>\n      <td>Mahindra</td>\n      <td>1</td>\n      <td>390000</td>\n      <td>40000</td>\n      <td>Diesel</td>\n    </tr>\n  </tbody>\n</table>\n<p>816 rows × 6 columns</p>\n</div>"
          },
          "metadata": {}
        }
      ]
    },
    {
      "cell_type": "code",
      "source": "car.reset_index(drop=True)",
      "metadata": {
        "trusted": true
      },
      "execution_count": 395,
      "outputs": [
        {
          "execution_count": 395,
          "output_type": "execute_result",
          "data": {
            "text/plain": "                       name   company  year   Price  kms_driven fuel_type\n0       Hyundai Santro Xing   Hyundai     1   80000       45000    Petrol\n1       Mahindra Jeep CL550  Mahindra     1  425000          40    Diesel\n2         Hyundai Grand i10   Hyundai     1  325000       28000    Petrol\n3    Ford EcoSport Titanium      Ford     1  575000       36000    Diesel\n4                 Ford Figo      Ford     1  175000       41000    Diesel\n..                      ...       ...   ...     ...         ...       ...\n811      Maruti Suzuki Ritz    Maruti     1  270000       50000    Petrol\n812          Tata Indica V2      Tata     1  110000       30000    Diesel\n813    Toyota Corolla Altis    Toyota     1  300000      132000    Petrol\n814            Tata Zest XM      Tata     1  260000       27000    Diesel\n815      Mahindra Quanto C8  Mahindra     1  390000       40000    Diesel\n\n[816 rows x 6 columns]",
            "text/html": "<div>\n<style scoped>\n    .dataframe tbody tr th:only-of-type {\n        vertical-align: middle;\n    }\n\n    .dataframe tbody tr th {\n        vertical-align: top;\n    }\n\n    .dataframe thead th {\n        text-align: right;\n    }\n</style>\n<table border=\"1\" class=\"dataframe\">\n  <thead>\n    <tr style=\"text-align: right;\">\n      <th></th>\n      <th>name</th>\n      <th>company</th>\n      <th>year</th>\n      <th>Price</th>\n      <th>kms_driven</th>\n      <th>fuel_type</th>\n    </tr>\n  </thead>\n  <tbody>\n    <tr>\n      <th>0</th>\n      <td>Hyundai Santro Xing</td>\n      <td>Hyundai</td>\n      <td>1</td>\n      <td>80000</td>\n      <td>45000</td>\n      <td>Petrol</td>\n    </tr>\n    <tr>\n      <th>1</th>\n      <td>Mahindra Jeep CL550</td>\n      <td>Mahindra</td>\n      <td>1</td>\n      <td>425000</td>\n      <td>40</td>\n      <td>Diesel</td>\n    </tr>\n    <tr>\n      <th>2</th>\n      <td>Hyundai Grand i10</td>\n      <td>Hyundai</td>\n      <td>1</td>\n      <td>325000</td>\n      <td>28000</td>\n      <td>Petrol</td>\n    </tr>\n    <tr>\n      <th>3</th>\n      <td>Ford EcoSport Titanium</td>\n      <td>Ford</td>\n      <td>1</td>\n      <td>575000</td>\n      <td>36000</td>\n      <td>Diesel</td>\n    </tr>\n    <tr>\n      <th>4</th>\n      <td>Ford Figo</td>\n      <td>Ford</td>\n      <td>1</td>\n      <td>175000</td>\n      <td>41000</td>\n      <td>Diesel</td>\n    </tr>\n    <tr>\n      <th>...</th>\n      <td>...</td>\n      <td>...</td>\n      <td>...</td>\n      <td>...</td>\n      <td>...</td>\n      <td>...</td>\n    </tr>\n    <tr>\n      <th>811</th>\n      <td>Maruti Suzuki Ritz</td>\n      <td>Maruti</td>\n      <td>1</td>\n      <td>270000</td>\n      <td>50000</td>\n      <td>Petrol</td>\n    </tr>\n    <tr>\n      <th>812</th>\n      <td>Tata Indica V2</td>\n      <td>Tata</td>\n      <td>1</td>\n      <td>110000</td>\n      <td>30000</td>\n      <td>Diesel</td>\n    </tr>\n    <tr>\n      <th>813</th>\n      <td>Toyota Corolla Altis</td>\n      <td>Toyota</td>\n      <td>1</td>\n      <td>300000</td>\n      <td>132000</td>\n      <td>Petrol</td>\n    </tr>\n    <tr>\n      <th>814</th>\n      <td>Tata Zest XM</td>\n      <td>Tata</td>\n      <td>1</td>\n      <td>260000</td>\n      <td>27000</td>\n      <td>Diesel</td>\n    </tr>\n    <tr>\n      <th>815</th>\n      <td>Mahindra Quanto C8</td>\n      <td>Mahindra</td>\n      <td>1</td>\n      <td>390000</td>\n      <td>40000</td>\n      <td>Diesel</td>\n    </tr>\n  </tbody>\n</table>\n<p>816 rows × 6 columns</p>\n</div>"
          },
          "metadata": {}
        }
      ]
    },
    {
      "cell_type": "code",
      "source": "car.describe()",
      "metadata": {
        "trusted": true
      },
      "execution_count": 396,
      "outputs": [
        {
          "execution_count": 396,
          "output_type": "execute_result",
          "data": {
            "text/plain": "        year         Price     kms_driven\ncount  816.0  8.160000e+02     816.000000\nmean     1.0  4.117176e+05   46275.531863\nstd      0.0  4.751844e+05   34297.428044\nmin      1.0  3.000000e+04       0.000000\n25%      1.0  1.750000e+05   27000.000000\n50%      1.0  2.999990e+05   41000.000000\n75%      1.0  4.912500e+05   56818.500000\nmax      1.0  8.500003e+06  400000.000000",
            "text/html": "<div>\n<style scoped>\n    .dataframe tbody tr th:only-of-type {\n        vertical-align: middle;\n    }\n\n    .dataframe tbody tr th {\n        vertical-align: top;\n    }\n\n    .dataframe thead th {\n        text-align: right;\n    }\n</style>\n<table border=\"1\" class=\"dataframe\">\n  <thead>\n    <tr style=\"text-align: right;\">\n      <th></th>\n      <th>year</th>\n      <th>Price</th>\n      <th>kms_driven</th>\n    </tr>\n  </thead>\n  <tbody>\n    <tr>\n      <th>count</th>\n      <td>816.0</td>\n      <td>8.160000e+02</td>\n      <td>816.000000</td>\n    </tr>\n    <tr>\n      <th>mean</th>\n      <td>1.0</td>\n      <td>4.117176e+05</td>\n      <td>46275.531863</td>\n    </tr>\n    <tr>\n      <th>std</th>\n      <td>0.0</td>\n      <td>4.751844e+05</td>\n      <td>34297.428044</td>\n    </tr>\n    <tr>\n      <th>min</th>\n      <td>1.0</td>\n      <td>3.000000e+04</td>\n      <td>0.000000</td>\n    </tr>\n    <tr>\n      <th>25%</th>\n      <td>1.0</td>\n      <td>1.750000e+05</td>\n      <td>27000.000000</td>\n    </tr>\n    <tr>\n      <th>50%</th>\n      <td>1.0</td>\n      <td>2.999990e+05</td>\n      <td>41000.000000</td>\n    </tr>\n    <tr>\n      <th>75%</th>\n      <td>1.0</td>\n      <td>4.912500e+05</td>\n      <td>56818.500000</td>\n    </tr>\n    <tr>\n      <th>max</th>\n      <td>1.0</td>\n      <td>8.500003e+06</td>\n      <td>400000.000000</td>\n    </tr>\n  </tbody>\n</table>\n</div>"
          },
          "metadata": {}
        }
      ]
    },
    {
      "cell_type": "code",
      "source": "car[car['Price']>6e6]",
      "metadata": {
        "trusted": true
      },
      "execution_count": 400,
      "outputs": [
        {
          "execution_count": 400,
          "output_type": "execute_result",
          "data": {
            "text/plain": "                   name   company  year    Price  kms_driven fuel_type\n562  Mahindra XUV500 W6  Mahindra     1  8500003       45000    Diesel",
            "text/html": "<div>\n<style scoped>\n    .dataframe tbody tr th:only-of-type {\n        vertical-align: middle;\n    }\n\n    .dataframe tbody tr th {\n        vertical-align: top;\n    }\n\n    .dataframe thead th {\n        text-align: right;\n    }\n</style>\n<table border=\"1\" class=\"dataframe\">\n  <thead>\n    <tr style=\"text-align: right;\">\n      <th></th>\n      <th>name</th>\n      <th>company</th>\n      <th>year</th>\n      <th>Price</th>\n      <th>kms_driven</th>\n      <th>fuel_type</th>\n    </tr>\n  </thead>\n  <tbody>\n    <tr>\n      <th>562</th>\n      <td>Mahindra XUV500 W6</td>\n      <td>Mahindra</td>\n      <td>1</td>\n      <td>8500003</td>\n      <td>45000</td>\n      <td>Diesel</td>\n    </tr>\n  </tbody>\n</table>\n</div>"
          },
          "metadata": {}
        }
      ]
    },
    {
      "cell_type": "code",
      "source": "car=car[car['Price']<6e6].reset_index(drop=True)",
      "metadata": {
        "trusted": true
      },
      "execution_count": 402,
      "outputs": []
    },
    {
      "cell_type": "code",
      "source": "car",
      "metadata": {
        "trusted": true
      },
      "execution_count": 403,
      "outputs": [
        {
          "execution_count": 403,
          "output_type": "execute_result",
          "data": {
            "text/plain": "                       name   company  year   Price  kms_driven fuel_type\n0       Hyundai Santro Xing   Hyundai     1   80000       45000    Petrol\n1       Mahindra Jeep CL550  Mahindra     1  425000          40    Diesel\n2         Hyundai Grand i10   Hyundai     1  325000       28000    Petrol\n3    Ford EcoSport Titanium      Ford     1  575000       36000    Diesel\n4                 Ford Figo      Ford     1  175000       41000    Diesel\n..                      ...       ...   ...     ...         ...       ...\n810      Maruti Suzuki Ritz    Maruti     1  270000       50000    Petrol\n811          Tata Indica V2      Tata     1  110000       30000    Diesel\n812    Toyota Corolla Altis    Toyota     1  300000      132000    Petrol\n813            Tata Zest XM      Tata     1  260000       27000    Diesel\n814      Mahindra Quanto C8  Mahindra     1  390000       40000    Diesel\n\n[815 rows x 6 columns]",
            "text/html": "<div>\n<style scoped>\n    .dataframe tbody tr th:only-of-type {\n        vertical-align: middle;\n    }\n\n    .dataframe tbody tr th {\n        vertical-align: top;\n    }\n\n    .dataframe thead th {\n        text-align: right;\n    }\n</style>\n<table border=\"1\" class=\"dataframe\">\n  <thead>\n    <tr style=\"text-align: right;\">\n      <th></th>\n      <th>name</th>\n      <th>company</th>\n      <th>year</th>\n      <th>Price</th>\n      <th>kms_driven</th>\n      <th>fuel_type</th>\n    </tr>\n  </thead>\n  <tbody>\n    <tr>\n      <th>0</th>\n      <td>Hyundai Santro Xing</td>\n      <td>Hyundai</td>\n      <td>1</td>\n      <td>80000</td>\n      <td>45000</td>\n      <td>Petrol</td>\n    </tr>\n    <tr>\n      <th>1</th>\n      <td>Mahindra Jeep CL550</td>\n      <td>Mahindra</td>\n      <td>1</td>\n      <td>425000</td>\n      <td>40</td>\n      <td>Diesel</td>\n    </tr>\n    <tr>\n      <th>2</th>\n      <td>Hyundai Grand i10</td>\n      <td>Hyundai</td>\n      <td>1</td>\n      <td>325000</td>\n      <td>28000</td>\n      <td>Petrol</td>\n    </tr>\n    <tr>\n      <th>3</th>\n      <td>Ford EcoSport Titanium</td>\n      <td>Ford</td>\n      <td>1</td>\n      <td>575000</td>\n      <td>36000</td>\n      <td>Diesel</td>\n    </tr>\n    <tr>\n      <th>4</th>\n      <td>Ford Figo</td>\n      <td>Ford</td>\n      <td>1</td>\n      <td>175000</td>\n      <td>41000</td>\n      <td>Diesel</td>\n    </tr>\n    <tr>\n      <th>...</th>\n      <td>...</td>\n      <td>...</td>\n      <td>...</td>\n      <td>...</td>\n      <td>...</td>\n      <td>...</td>\n    </tr>\n    <tr>\n      <th>810</th>\n      <td>Maruti Suzuki Ritz</td>\n      <td>Maruti</td>\n      <td>1</td>\n      <td>270000</td>\n      <td>50000</td>\n      <td>Petrol</td>\n    </tr>\n    <tr>\n      <th>811</th>\n      <td>Tata Indica V2</td>\n      <td>Tata</td>\n      <td>1</td>\n      <td>110000</td>\n      <td>30000</td>\n      <td>Diesel</td>\n    </tr>\n    <tr>\n      <th>812</th>\n      <td>Toyota Corolla Altis</td>\n      <td>Toyota</td>\n      <td>1</td>\n      <td>300000</td>\n      <td>132000</td>\n      <td>Petrol</td>\n    </tr>\n    <tr>\n      <th>813</th>\n      <td>Tata Zest XM</td>\n      <td>Tata</td>\n      <td>1</td>\n      <td>260000</td>\n      <td>27000</td>\n      <td>Diesel</td>\n    </tr>\n    <tr>\n      <th>814</th>\n      <td>Mahindra Quanto C8</td>\n      <td>Mahindra</td>\n      <td>1</td>\n      <td>390000</td>\n      <td>40000</td>\n      <td>Diesel</td>\n    </tr>\n  </tbody>\n</table>\n<p>815 rows × 6 columns</p>\n</div>"
          },
          "metadata": {}
        }
      ]
    },
    {
      "cell_type": "code",
      "source": "car.to_csv('Cleaned Car.csv')",
      "metadata": {
        "trusted": true
      },
      "execution_count": 405,
      "outputs": []
    },
    {
      "cell_type": "code",
      "source": "#Model",
      "metadata": {},
      "execution_count": null,
      "outputs": []
    },
    {
      "cell_type": "code",
      "source": "x=car.drop(columns='Price')\ny=car['Price']",
      "metadata": {
        "trusted": true
      },
      "execution_count": 406,
      "outputs": []
    },
    {
      "cell_type": "code",
      "source": "y",
      "metadata": {
        "trusted": true
      },
      "execution_count": 407,
      "outputs": [
        {
          "execution_count": 407,
          "output_type": "execute_result",
          "data": {
            "text/plain": "0       80000\n1      425000\n2      325000\n3      575000\n4      175000\n        ...  \n810    270000\n811    110000\n812    300000\n813    260000\n814    390000\nName: Price, Length: 815, dtype: int32"
          },
          "metadata": {}
        }
      ]
    },
    {
      "cell_type": "code",
      "source": "from sklearn.model_selection import train_test_split\nx_train, x_test,y_train, y_test=train_test_split(x,y,test_size=0.2)",
      "metadata": {
        "trusted": true
      },
      "execution_count": 439,
      "outputs": []
    },
    {
      "cell_type": "code",
      "source": "from sklearn.linear_model import LinearRegression\nfrom sklearn.metrics import r2_score\nfrom sklearn.preprocessing import OneHotEncoder\nfrom sklearn.compose import make_column_transformer\nfrom sklearn.pipeline import make_pipeline",
      "metadata": {
        "trusted": true
      },
      "execution_count": 427,
      "outputs": []
    },
    {
      "cell_type": "code",
      "source": "ohe =OneHotEncoder()\nohe.fit(x[['name','company','fuel_type']])",
      "metadata": {
        "trusted": true
      },
      "execution_count": 414,
      "outputs": [
        {
          "execution_count": 414,
          "output_type": "execute_result",
          "data": {
            "text/plain": "OneHotEncoder()",
            "text/html": "<style>#sk-container-id-1 {color: black;background-color: white;}#sk-container-id-1 pre{padding: 0;}#sk-container-id-1 div.sk-toggleable {background-color: white;}#sk-container-id-1 label.sk-toggleable__label {cursor: pointer;display: block;width: 100%;margin-bottom: 0;padding: 0.3em;box-sizing: border-box;text-align: center;}#sk-container-id-1 label.sk-toggleable__label-arrow:before {content: \"▸\";float: left;margin-right: 0.25em;color: #696969;}#sk-container-id-1 label.sk-toggleable__label-arrow:hover:before {color: black;}#sk-container-id-1 div.sk-estimator:hover label.sk-toggleable__label-arrow:before {color: black;}#sk-container-id-1 div.sk-toggleable__content {max-height: 0;max-width: 0;overflow: hidden;text-align: left;background-color: #f0f8ff;}#sk-container-id-1 div.sk-toggleable__content pre {margin: 0.2em;color: black;border-radius: 0.25em;background-color: #f0f8ff;}#sk-container-id-1 input.sk-toggleable__control:checked~div.sk-toggleable__content {max-height: 200px;max-width: 100%;overflow: auto;}#sk-container-id-1 input.sk-toggleable__control:checked~label.sk-toggleable__label-arrow:before {content: \"▾\";}#sk-container-id-1 div.sk-estimator input.sk-toggleable__control:checked~label.sk-toggleable__label {background-color: #d4ebff;}#sk-container-id-1 div.sk-label input.sk-toggleable__control:checked~label.sk-toggleable__label {background-color: #d4ebff;}#sk-container-id-1 input.sk-hidden--visually {border: 0;clip: rect(1px 1px 1px 1px);clip: rect(1px, 1px, 1px, 1px);height: 1px;margin: -1px;overflow: hidden;padding: 0;position: absolute;width: 1px;}#sk-container-id-1 div.sk-estimator {font-family: monospace;background-color: #f0f8ff;border: 1px dotted black;border-radius: 0.25em;box-sizing: border-box;margin-bottom: 0.5em;}#sk-container-id-1 div.sk-estimator:hover {background-color: #d4ebff;}#sk-container-id-1 div.sk-parallel-item::after {content: \"\";width: 100%;border-bottom: 1px solid gray;flex-grow: 1;}#sk-container-id-1 div.sk-label:hover label.sk-toggleable__label {background-color: #d4ebff;}#sk-container-id-1 div.sk-serial::before {content: \"\";position: absolute;border-left: 1px solid gray;box-sizing: border-box;top: 0;bottom: 0;left: 50%;z-index: 0;}#sk-container-id-1 div.sk-serial {display: flex;flex-direction: column;align-items: center;background-color: white;padding-right: 0.2em;padding-left: 0.2em;position: relative;}#sk-container-id-1 div.sk-item {position: relative;z-index: 1;}#sk-container-id-1 div.sk-parallel {display: flex;align-items: stretch;justify-content: center;background-color: white;position: relative;}#sk-container-id-1 div.sk-item::before, #sk-container-id-1 div.sk-parallel-item::before {content: \"\";position: absolute;border-left: 1px solid gray;box-sizing: border-box;top: 0;bottom: 0;left: 50%;z-index: -1;}#sk-container-id-1 div.sk-parallel-item {display: flex;flex-direction: column;z-index: 1;position: relative;background-color: white;}#sk-container-id-1 div.sk-parallel-item:first-child::after {align-self: flex-end;width: 50%;}#sk-container-id-1 div.sk-parallel-item:last-child::after {align-self: flex-start;width: 50%;}#sk-container-id-1 div.sk-parallel-item:only-child::after {width: 0;}#sk-container-id-1 div.sk-dashed-wrapped {border: 1px dashed gray;margin: 0 0.4em 0.5em 0.4em;box-sizing: border-box;padding-bottom: 0.4em;background-color: white;}#sk-container-id-1 div.sk-label label {font-family: monospace;font-weight: bold;display: inline-block;line-height: 1.2em;}#sk-container-id-1 div.sk-label-container {text-align: center;}#sk-container-id-1 div.sk-container {/* jupyter's `normalize.less` sets `[hidden] { display: none; }` but bootstrap.min.css set `[hidden] { display: none !important; }` so we also need the `!important` here to be able to override the default hidden behavior on the sphinx rendered scikit-learn.org. See: https://github.com/scikit-learn/scikit-learn/issues/21755 */display: inline-block !important;position: relative;}#sk-container-id-1 div.sk-text-repr-fallback {display: none;}</style><div id=\"sk-container-id-1\" class=\"sk-top-container\"><div class=\"sk-text-repr-fallback\"><pre>OneHotEncoder()</pre><b>In a Jupyter environment, please rerun this cell to show the HTML representation or trust the notebook. <br />On GitHub, the HTML representation is unable to render, please try loading this page with nbviewer.org.</b></div><div class=\"sk-container\" hidden><div class=\"sk-item\"><div class=\"sk-estimator sk-toggleable\"><input class=\"sk-toggleable__control sk-hidden--visually\" id=\"sk-estimator-id-1\" type=\"checkbox\" checked><label for=\"sk-estimator-id-1\" class=\"sk-toggleable__label sk-toggleable__label-arrow\">OneHotEncoder</label><div class=\"sk-toggleable__content\"><pre>OneHotEncoder()</pre></div></div></div></div></div>"
          },
          "metadata": {}
        }
      ]
    },
    {
      "cell_type": "code",
      "source": "ohe.categories_",
      "metadata": {
        "trusted": true
      },
      "execution_count": 420,
      "outputs": [
        {
          "execution_count": 420,
          "output_type": "execute_result",
          "data": {
            "text/plain": "[array(['Audi A3 Cabriolet', 'Audi A4 1.8', 'Audi A4 2.0', 'Audi A6 2.0',\n        'Audi A8', 'Audi Q3 2.0', 'Audi Q5 2.0', 'Audi Q7', 'BMW 3 Series',\n        'BMW 5 Series', 'BMW 7 Series', 'BMW X1', 'BMW X1 sDrive20d',\n        'BMW X1 xDrive20d', 'Chevrolet Beat', 'Chevrolet Beat Diesel',\n        'Chevrolet Beat LS', 'Chevrolet Beat LT', 'Chevrolet Beat PS',\n        'Chevrolet Cruze LTZ', 'Chevrolet Enjoy', 'Chevrolet Enjoy 1.4',\n        'Chevrolet Sail 1.2', 'Chevrolet Sail UVA', 'Chevrolet Spark',\n        'Chevrolet Spark 1.0', 'Chevrolet Spark LS', 'Chevrolet Spark LT',\n        'Chevrolet Tavera LS', 'Chevrolet Tavera Neo', 'Datsun GO T',\n        'Datsun Go Plus', 'Datsun Redi GO', 'Fiat Linea Emotion',\n        'Fiat Petra ELX', 'Fiat Punto Emotion', 'Force Motors Force',\n        'Force Motors One', 'Ford EcoSport', 'Ford EcoSport Ambiente',\n        'Ford EcoSport Titanium', 'Ford EcoSport Trend',\n        'Ford Endeavor 4x4', 'Ford Fiesta', 'Ford Fiesta SXi', 'Ford Figo',\n        'Ford Figo Diesel', 'Ford Figo Duratorq', 'Ford Figo Petrol',\n        'Ford Fusion 1.4', 'Ford Ikon 1.3', 'Ford Ikon 1.6',\n        'Hindustan Motors Ambassador', 'Honda Accord', 'Honda Amaze',\n        'Honda Amaze 1.2', 'Honda Amaze 1.5', 'Honda Brio', 'Honda Brio V',\n        'Honda Brio VX', 'Honda City', 'Honda City 1.5', 'Honda City SV',\n        'Honda City VX', 'Honda City ZX', 'Honda Jazz S', 'Honda Jazz VX',\n        'Honda Mobilio', 'Honda Mobilio S', 'Honda WR V', 'Hyundai Accent',\n        'Hyundai Accent Executive', 'Hyundai Accent GLE',\n        'Hyundai Accent GLX', 'Hyundai Creta', 'Hyundai Creta 1.6',\n        'Hyundai Elantra 1.8', 'Hyundai Elantra SX', 'Hyundai Elite i20',\n        'Hyundai Eon', 'Hyundai Eon D', 'Hyundai Eon Era',\n        'Hyundai Eon Magna', 'Hyundai Eon Sportz', 'Hyundai Fluidic Verna',\n        'Hyundai Getz', 'Hyundai Getz GLE', 'Hyundai Getz Prime',\n        'Hyundai Grand i10', 'Hyundai Santro', 'Hyundai Santro AE',\n        'Hyundai Santro Xing', 'Hyundai Sonata Transform', 'Hyundai Verna',\n        'Hyundai Verna 1.4', 'Hyundai Verna 1.6', 'Hyundai Verna Fluidic',\n        'Hyundai Verna Transform', 'Hyundai Verna VGT',\n        'Hyundai Xcent Base', 'Hyundai Xcent SX', 'Hyundai i10',\n        'Hyundai i10 Era', 'Hyundai i10 Magna', 'Hyundai i10 Sportz',\n        'Hyundai i20', 'Hyundai i20 Active', 'Hyundai i20 Asta',\n        'Hyundai i20 Magna', 'Hyundai i20 Select', 'Hyundai i20 Sportz',\n        'Jaguar XE XE', 'Jaguar XF 2.2', 'Jeep Wrangler Unlimited',\n        'Land Rover Freelander', 'Mahindra Bolero DI',\n        'Mahindra Bolero Power', 'Mahindra Bolero SLE',\n        'Mahindra Jeep CL550', 'Mahindra Jeep MM', 'Mahindra KUV100',\n        'Mahindra KUV100 K8', 'Mahindra Logan', 'Mahindra Logan Diesel',\n        'Mahindra Quanto C4', 'Mahindra Quanto C8', 'Mahindra Scorpio',\n        'Mahindra Scorpio 2.6', 'Mahindra Scorpio LX',\n        'Mahindra Scorpio S10', 'Mahindra Scorpio S4',\n        'Mahindra Scorpio SLE', 'Mahindra Scorpio SLX',\n        'Mahindra Scorpio VLX', 'Mahindra Scorpio Vlx',\n        'Mahindra Scorpio W', 'Mahindra TUV300 T4', 'Mahindra TUV300 T8',\n        'Mahindra Thar CRDe', 'Mahindra XUV500', 'Mahindra XUV500 W10',\n        'Mahindra XUV500 W6', 'Mahindra XUV500 W8', 'Mahindra Xylo D2',\n        'Mahindra Xylo E4', 'Mahindra Xylo E8', 'Maruti Suzuki 800',\n        'Maruti Suzuki A', 'Maruti Suzuki Alto', 'Maruti Suzuki Baleno',\n        'Maruti Suzuki Celerio', 'Maruti Suzuki Ciaz',\n        'Maruti Suzuki Dzire', 'Maruti Suzuki Eeco',\n        'Maruti Suzuki Ertiga', 'Maruti Suzuki Esteem',\n        'Maruti Suzuki Estilo', 'Maruti Suzuki Maruti',\n        'Maruti Suzuki Omni', 'Maruti Suzuki Ritz', 'Maruti Suzuki S',\n        'Maruti Suzuki SX4', 'Maruti Suzuki Stingray',\n        'Maruti Suzuki Swift', 'Maruti Suzuki Versa',\n        'Maruti Suzuki Vitara', 'Maruti Suzuki Wagon', 'Maruti Suzuki Zen',\n        'Mercedes Benz A', 'Mercedes Benz B', 'Mercedes Benz C',\n        'Mercedes Benz GLA', 'Mini Cooper S', 'Mitsubishi Lancer 1.8',\n        'Mitsubishi Pajero Sport', 'Nissan Micra XL', 'Nissan Micra XV',\n        'Nissan Sunny', 'Nissan Sunny XL', 'Nissan Terrano XL',\n        'Nissan X Trail', 'Renault Duster', 'Renault Duster 110',\n        'Renault Duster 110PS', 'Renault Duster 85', 'Renault Duster 85PS',\n        'Renault Duster RxL', 'Renault Kwid', 'Renault Kwid 1.0',\n        'Renault Kwid RXT', 'Renault Lodgy 85', 'Renault Scala RxL',\n        'Skoda Fabia', 'Skoda Fabia 1.2L', 'Skoda Fabia Classic',\n        'Skoda Laura', 'Skoda Octavia Classic', 'Skoda Rapid Elegance',\n        'Skoda Superb 1.8', 'Skoda Yeti Ambition', 'Tata Aria Pleasure',\n        'Tata Bolt XM', 'Tata Indica', 'Tata Indica V2', 'Tata Indica eV2',\n        'Tata Indigo CS', 'Tata Indigo LS', 'Tata Indigo LX',\n        'Tata Indigo Marina', 'Tata Indigo eCS', 'Tata Manza',\n        'Tata Manza Aqua', 'Tata Manza Aura', 'Tata Manza ELAN',\n        'Tata Nano', 'Tata Nano Cx', 'Tata Nano GenX', 'Tata Nano LX',\n        'Tata Nano Lx', 'Tata Sumo Gold', 'Tata Sumo Grande',\n        'Tata Sumo Victa', 'Tata Tiago Revotorq', 'Tata Tiago Revotron',\n        'Tata Tigor Revotron', 'Tata Venture EX', 'Tata Vista Quadrajet',\n        'Tata Zest Quadrajet', 'Tata Zest XE', 'Tata Zest XM',\n        'Toyota Corolla', 'Toyota Corolla Altis', 'Toyota Corolla H2',\n        'Toyota Etios', 'Toyota Etios G', 'Toyota Etios GD',\n        'Toyota Etios Liva', 'Toyota Fortuner', 'Toyota Fortuner 3.0',\n        'Toyota Innova 2.0', 'Toyota Innova 2.5', 'Toyota Qualis',\n        'Volkswagen Jetta Comfortline', 'Volkswagen Jetta Highline',\n        'Volkswagen Passat Diesel', 'Volkswagen Polo',\n        'Volkswagen Polo Comfortline', 'Volkswagen Polo Highline',\n        'Volkswagen Polo Highline1.2L', 'Volkswagen Polo Trendline',\n        'Volkswagen Vento Comfortline', 'Volkswagen Vento Highline',\n        'Volkswagen Vento Konekt', 'Volvo S80 Summum'], dtype=object),\n array(['Audi', 'BMW', 'Chevrolet', 'Datsun', 'Fiat', 'Force', 'Ford',\n        'Hindustan', 'Honda', 'Hyundai', 'Jaguar', 'Jeep', 'Land',\n        'Mahindra', 'Maruti', 'Mercedes', 'Mini', 'Mitsubishi', 'Nissan',\n        'Renault', 'Skoda', 'Tata', 'Toyota', 'Volkswagen', 'Volvo'],\n       dtype=object),\n array(['Diesel', 'LPG', 'Petrol'], dtype=object)]"
          },
          "metadata": {}
        }
      ]
    },
    {
      "cell_type": "code",
      "source": "columns_trans=make_column_transformer((OneHotEncoder(categories=ohe.categories_),['name','company','fuel_type']),\n                                      remainder='passthrough')",
      "metadata": {
        "trusted": true
      },
      "execution_count": 424,
      "outputs": []
    },
    {
      "cell_type": "code",
      "source": "lr=LinearRegression()",
      "metadata": {
        "trusted": true
      },
      "execution_count": 425,
      "outputs": []
    },
    {
      "cell_type": "code",
      "source": "pipe=make_pipeline(columns_trans,lr)",
      "metadata": {
        "trusted": true
      },
      "execution_count": 429,
      "outputs": []
    },
    {
      "cell_type": "code",
      "source": "pipe.fit(x_train,y_train)",
      "metadata": {
        "trusted": true
      },
      "execution_count": 440,
      "outputs": [
        {
          "execution_count": 440,
          "output_type": "execute_result",
          "data": {
            "text/plain": "Pipeline(steps=[('columntransformer',\n                 ColumnTransformer(remainder='passthrough',\n                                   transformers=[('onehotencoder',\n                                                  OneHotEncoder(categories=[array(['Audi A3 Cabriolet', 'Audi A4 1.8', 'Audi A4 2.0', 'Audi A6 2.0',\n       'Audi A8', 'Audi Q3 2.0', 'Audi Q5 2.0', 'Audi Q7', 'BMW 3 Series',\n       'BMW 5 Series', 'BMW 7 Series', 'BMW X1', 'BMW X1 sDrive20d',\n       'BMW X1 xDrive20d', 'Chevrolet Beat', 'Chevrolet Beat...\n                                                                            array(['Audi', 'BMW', 'Chevrolet', 'Datsun', 'Fiat', 'Force', 'Ford',\n       'Hindustan', 'Honda', 'Hyundai', 'Jaguar', 'Jeep', 'Land',\n       'Mahindra', 'Maruti', 'Mercedes', 'Mini', 'Mitsubishi', 'Nissan',\n       'Renault', 'Skoda', 'Tata', 'Toyota', 'Volkswagen', 'Volvo'],\n      dtype=object),\n                                                                            array(['Diesel', 'LPG', 'Petrol'], dtype=object)]),\n                                                  ['name', 'company',\n                                                   'fuel_type'])])),\n                ('linearregression', LinearRegression())])",
            "text/html": "<style>#sk-container-id-2 {color: black;background-color: white;}#sk-container-id-2 pre{padding: 0;}#sk-container-id-2 div.sk-toggleable {background-color: white;}#sk-container-id-2 label.sk-toggleable__label {cursor: pointer;display: block;width: 100%;margin-bottom: 0;padding: 0.3em;box-sizing: border-box;text-align: center;}#sk-container-id-2 label.sk-toggleable__label-arrow:before {content: \"▸\";float: left;margin-right: 0.25em;color: #696969;}#sk-container-id-2 label.sk-toggleable__label-arrow:hover:before {color: black;}#sk-container-id-2 div.sk-estimator:hover label.sk-toggleable__label-arrow:before {color: black;}#sk-container-id-2 div.sk-toggleable__content {max-height: 0;max-width: 0;overflow: hidden;text-align: left;background-color: #f0f8ff;}#sk-container-id-2 div.sk-toggleable__content pre {margin: 0.2em;color: black;border-radius: 0.25em;background-color: #f0f8ff;}#sk-container-id-2 input.sk-toggleable__control:checked~div.sk-toggleable__content {max-height: 200px;max-width: 100%;overflow: auto;}#sk-container-id-2 input.sk-toggleable__control:checked~label.sk-toggleable__label-arrow:before {content: \"▾\";}#sk-container-id-2 div.sk-estimator input.sk-toggleable__control:checked~label.sk-toggleable__label {background-color: #d4ebff;}#sk-container-id-2 div.sk-label input.sk-toggleable__control:checked~label.sk-toggleable__label {background-color: #d4ebff;}#sk-container-id-2 input.sk-hidden--visually {border: 0;clip: rect(1px 1px 1px 1px);clip: rect(1px, 1px, 1px, 1px);height: 1px;margin: -1px;overflow: hidden;padding: 0;position: absolute;width: 1px;}#sk-container-id-2 div.sk-estimator {font-family: monospace;background-color: #f0f8ff;border: 1px dotted black;border-radius: 0.25em;box-sizing: border-box;margin-bottom: 0.5em;}#sk-container-id-2 div.sk-estimator:hover {background-color: #d4ebff;}#sk-container-id-2 div.sk-parallel-item::after {content: \"\";width: 100%;border-bottom: 1px solid gray;flex-grow: 1;}#sk-container-id-2 div.sk-label:hover label.sk-toggleable__label {background-color: #d4ebff;}#sk-container-id-2 div.sk-serial::before {content: \"\";position: absolute;border-left: 1px solid gray;box-sizing: border-box;top: 0;bottom: 0;left: 50%;z-index: 0;}#sk-container-id-2 div.sk-serial {display: flex;flex-direction: column;align-items: center;background-color: white;padding-right: 0.2em;padding-left: 0.2em;position: relative;}#sk-container-id-2 div.sk-item {position: relative;z-index: 1;}#sk-container-id-2 div.sk-parallel {display: flex;align-items: stretch;justify-content: center;background-color: white;position: relative;}#sk-container-id-2 div.sk-item::before, #sk-container-id-2 div.sk-parallel-item::before {content: \"\";position: absolute;border-left: 1px solid gray;box-sizing: border-box;top: 0;bottom: 0;left: 50%;z-index: -1;}#sk-container-id-2 div.sk-parallel-item {display: flex;flex-direction: column;z-index: 1;position: relative;background-color: white;}#sk-container-id-2 div.sk-parallel-item:first-child::after {align-self: flex-end;width: 50%;}#sk-container-id-2 div.sk-parallel-item:last-child::after {align-self: flex-start;width: 50%;}#sk-container-id-2 div.sk-parallel-item:only-child::after {width: 0;}#sk-container-id-2 div.sk-dashed-wrapped {border: 1px dashed gray;margin: 0 0.4em 0.5em 0.4em;box-sizing: border-box;padding-bottom: 0.4em;background-color: white;}#sk-container-id-2 div.sk-label label {font-family: monospace;font-weight: bold;display: inline-block;line-height: 1.2em;}#sk-container-id-2 div.sk-label-container {text-align: center;}#sk-container-id-2 div.sk-container {/* jupyter's `normalize.less` sets `[hidden] { display: none; }` but bootstrap.min.css set `[hidden] { display: none !important; }` so we also need the `!important` here to be able to override the default hidden behavior on the sphinx rendered scikit-learn.org. See: https://github.com/scikit-learn/scikit-learn/issues/21755 */display: inline-block !important;position: relative;}#sk-container-id-2 div.sk-text-repr-fallback {display: none;}</style><div id=\"sk-container-id-2\" class=\"sk-top-container\"><div class=\"sk-text-repr-fallback\"><pre>Pipeline(steps=[(&#x27;columntransformer&#x27;,\n                 ColumnTransformer(remainder=&#x27;passthrough&#x27;,\n                                   transformers=[(&#x27;onehotencoder&#x27;,\n                                                  OneHotEncoder(categories=[array([&#x27;Audi A3 Cabriolet&#x27;, &#x27;Audi A4 1.8&#x27;, &#x27;Audi A4 2.0&#x27;, &#x27;Audi A6 2.0&#x27;,\n       &#x27;Audi A8&#x27;, &#x27;Audi Q3 2.0&#x27;, &#x27;Audi Q5 2.0&#x27;, &#x27;Audi Q7&#x27;, &#x27;BMW 3 Series&#x27;,\n       &#x27;BMW 5 Series&#x27;, &#x27;BMW 7 Series&#x27;, &#x27;BMW X1&#x27;, &#x27;BMW X1 sDrive20d&#x27;,\n       &#x27;BMW X1 xDrive20d&#x27;, &#x27;Chevrolet Beat&#x27;, &#x27;Chevrolet Beat...\n                                                                            array([&#x27;Audi&#x27;, &#x27;BMW&#x27;, &#x27;Chevrolet&#x27;, &#x27;Datsun&#x27;, &#x27;Fiat&#x27;, &#x27;Force&#x27;, &#x27;Ford&#x27;,\n       &#x27;Hindustan&#x27;, &#x27;Honda&#x27;, &#x27;Hyundai&#x27;, &#x27;Jaguar&#x27;, &#x27;Jeep&#x27;, &#x27;Land&#x27;,\n       &#x27;Mahindra&#x27;, &#x27;Maruti&#x27;, &#x27;Mercedes&#x27;, &#x27;Mini&#x27;, &#x27;Mitsubishi&#x27;, &#x27;Nissan&#x27;,\n       &#x27;Renault&#x27;, &#x27;Skoda&#x27;, &#x27;Tata&#x27;, &#x27;Toyota&#x27;, &#x27;Volkswagen&#x27;, &#x27;Volvo&#x27;],\n      dtype=object),\n                                                                            array([&#x27;Diesel&#x27;, &#x27;LPG&#x27;, &#x27;Petrol&#x27;], dtype=object)]),\n                                                  [&#x27;name&#x27;, &#x27;company&#x27;,\n                                                   &#x27;fuel_type&#x27;])])),\n                (&#x27;linearregression&#x27;, LinearRegression())])</pre><b>In a Jupyter environment, please rerun this cell to show the HTML representation or trust the notebook. <br />On GitHub, the HTML representation is unable to render, please try loading this page with nbviewer.org.</b></div><div class=\"sk-container\" hidden><div class=\"sk-item sk-dashed-wrapped\"><div class=\"sk-label-container\"><div class=\"sk-label sk-toggleable\"><input class=\"sk-toggleable__control sk-hidden--visually\" id=\"sk-estimator-id-2\" type=\"checkbox\" ><label for=\"sk-estimator-id-2\" class=\"sk-toggleable__label sk-toggleable__label-arrow\">Pipeline</label><div class=\"sk-toggleable__content\"><pre>Pipeline(steps=[(&#x27;columntransformer&#x27;,\n                 ColumnTransformer(remainder=&#x27;passthrough&#x27;,\n                                   transformers=[(&#x27;onehotencoder&#x27;,\n                                                  OneHotEncoder(categories=[array([&#x27;Audi A3 Cabriolet&#x27;, &#x27;Audi A4 1.8&#x27;, &#x27;Audi A4 2.0&#x27;, &#x27;Audi A6 2.0&#x27;,\n       &#x27;Audi A8&#x27;, &#x27;Audi Q3 2.0&#x27;, &#x27;Audi Q5 2.0&#x27;, &#x27;Audi Q7&#x27;, &#x27;BMW 3 Series&#x27;,\n       &#x27;BMW 5 Series&#x27;, &#x27;BMW 7 Series&#x27;, &#x27;BMW X1&#x27;, &#x27;BMW X1 sDrive20d&#x27;,\n       &#x27;BMW X1 xDrive20d&#x27;, &#x27;Chevrolet Beat&#x27;, &#x27;Chevrolet Beat...\n                                                                            array([&#x27;Audi&#x27;, &#x27;BMW&#x27;, &#x27;Chevrolet&#x27;, &#x27;Datsun&#x27;, &#x27;Fiat&#x27;, &#x27;Force&#x27;, &#x27;Ford&#x27;,\n       &#x27;Hindustan&#x27;, &#x27;Honda&#x27;, &#x27;Hyundai&#x27;, &#x27;Jaguar&#x27;, &#x27;Jeep&#x27;, &#x27;Land&#x27;,\n       &#x27;Mahindra&#x27;, &#x27;Maruti&#x27;, &#x27;Mercedes&#x27;, &#x27;Mini&#x27;, &#x27;Mitsubishi&#x27;, &#x27;Nissan&#x27;,\n       &#x27;Renault&#x27;, &#x27;Skoda&#x27;, &#x27;Tata&#x27;, &#x27;Toyota&#x27;, &#x27;Volkswagen&#x27;, &#x27;Volvo&#x27;],\n      dtype=object),\n                                                                            array([&#x27;Diesel&#x27;, &#x27;LPG&#x27;, &#x27;Petrol&#x27;], dtype=object)]),\n                                                  [&#x27;name&#x27;, &#x27;company&#x27;,\n                                                   &#x27;fuel_type&#x27;])])),\n                (&#x27;linearregression&#x27;, LinearRegression())])</pre></div></div></div><div class=\"sk-serial\"><div class=\"sk-item sk-dashed-wrapped\"><div class=\"sk-label-container\"><div class=\"sk-label sk-toggleable\"><input class=\"sk-toggleable__control sk-hidden--visually\" id=\"sk-estimator-id-3\" type=\"checkbox\" ><label for=\"sk-estimator-id-3\" class=\"sk-toggleable__label sk-toggleable__label-arrow\">columntransformer: ColumnTransformer</label><div class=\"sk-toggleable__content\"><pre>ColumnTransformer(remainder=&#x27;passthrough&#x27;,\n                  transformers=[(&#x27;onehotencoder&#x27;,\n                                 OneHotEncoder(categories=[array([&#x27;Audi A3 Cabriolet&#x27;, &#x27;Audi A4 1.8&#x27;, &#x27;Audi A4 2.0&#x27;, &#x27;Audi A6 2.0&#x27;,\n       &#x27;Audi A8&#x27;, &#x27;Audi Q3 2.0&#x27;, &#x27;Audi Q5 2.0&#x27;, &#x27;Audi Q7&#x27;, &#x27;BMW 3 Series&#x27;,\n       &#x27;BMW 5 Series&#x27;, &#x27;BMW 7 Series&#x27;, &#x27;BMW X1&#x27;, &#x27;BMW X1 sDrive20d&#x27;,\n       &#x27;BMW X1 xDrive20d&#x27;, &#x27;Chevrolet Beat&#x27;, &#x27;Chevrolet Beat Diesel&#x27;,\n       &#x27;Chevrolet Beat LS&#x27;, &#x27;Chevrolet B...\n       &#x27;Volkswagen Vento Konekt&#x27;, &#x27;Volvo S80 Summum&#x27;], dtype=object),\n                                                           array([&#x27;Audi&#x27;, &#x27;BMW&#x27;, &#x27;Chevrolet&#x27;, &#x27;Datsun&#x27;, &#x27;Fiat&#x27;, &#x27;Force&#x27;, &#x27;Ford&#x27;,\n       &#x27;Hindustan&#x27;, &#x27;Honda&#x27;, &#x27;Hyundai&#x27;, &#x27;Jaguar&#x27;, &#x27;Jeep&#x27;, &#x27;Land&#x27;,\n       &#x27;Mahindra&#x27;, &#x27;Maruti&#x27;, &#x27;Mercedes&#x27;, &#x27;Mini&#x27;, &#x27;Mitsubishi&#x27;, &#x27;Nissan&#x27;,\n       &#x27;Renault&#x27;, &#x27;Skoda&#x27;, &#x27;Tata&#x27;, &#x27;Toyota&#x27;, &#x27;Volkswagen&#x27;, &#x27;Volvo&#x27;],\n      dtype=object),\n                                                           array([&#x27;Diesel&#x27;, &#x27;LPG&#x27;, &#x27;Petrol&#x27;], dtype=object)]),\n                                 [&#x27;name&#x27;, &#x27;company&#x27;, &#x27;fuel_type&#x27;])])</pre></div></div></div><div class=\"sk-parallel\"><div class=\"sk-parallel-item\"><div class=\"sk-item\"><div class=\"sk-label-container\"><div class=\"sk-label sk-toggleable\"><input class=\"sk-toggleable__control sk-hidden--visually\" id=\"sk-estimator-id-4\" type=\"checkbox\" ><label for=\"sk-estimator-id-4\" class=\"sk-toggleable__label sk-toggleable__label-arrow\">onehotencoder</label><div class=\"sk-toggleable__content\"><pre>[&#x27;name&#x27;, &#x27;company&#x27;, &#x27;fuel_type&#x27;]</pre></div></div></div><div class=\"sk-serial\"><div class=\"sk-item\"><div class=\"sk-estimator sk-toggleable\"><input class=\"sk-toggleable__control sk-hidden--visually\" id=\"sk-estimator-id-5\" type=\"checkbox\" ><label for=\"sk-estimator-id-5\" class=\"sk-toggleable__label sk-toggleable__label-arrow\">OneHotEncoder</label><div class=\"sk-toggleable__content\"><pre>OneHotEncoder(categories=[array([&#x27;Audi A3 Cabriolet&#x27;, &#x27;Audi A4 1.8&#x27;, &#x27;Audi A4 2.0&#x27;, &#x27;Audi A6 2.0&#x27;,\n       &#x27;Audi A8&#x27;, &#x27;Audi Q3 2.0&#x27;, &#x27;Audi Q5 2.0&#x27;, &#x27;Audi Q7&#x27;, &#x27;BMW 3 Series&#x27;,\n       &#x27;BMW 5 Series&#x27;, &#x27;BMW 7 Series&#x27;, &#x27;BMW X1&#x27;, &#x27;BMW X1 sDrive20d&#x27;,\n       &#x27;BMW X1 xDrive20d&#x27;, &#x27;Chevrolet Beat&#x27;, &#x27;Chevrolet Beat Diesel&#x27;,\n       &#x27;Chevrolet Beat LS&#x27;, &#x27;Chevrolet Beat LT&#x27;, &#x27;Chevrolet Beat PS&#x27;,\n       &#x27;Chevrolet Cruze LTZ&#x27;, &#x27;Chevrolet Enjoy&#x27;, &#x27;Chevrolet E...\n       &#x27;Volkswagen Vento Comfortline&#x27;, &#x27;Volkswagen Vento Highline&#x27;,\n       &#x27;Volkswagen Vento Konekt&#x27;, &#x27;Volvo S80 Summum&#x27;], dtype=object),\n                          array([&#x27;Audi&#x27;, &#x27;BMW&#x27;, &#x27;Chevrolet&#x27;, &#x27;Datsun&#x27;, &#x27;Fiat&#x27;, &#x27;Force&#x27;, &#x27;Ford&#x27;,\n       &#x27;Hindustan&#x27;, &#x27;Honda&#x27;, &#x27;Hyundai&#x27;, &#x27;Jaguar&#x27;, &#x27;Jeep&#x27;, &#x27;Land&#x27;,\n       &#x27;Mahindra&#x27;, &#x27;Maruti&#x27;, &#x27;Mercedes&#x27;, &#x27;Mini&#x27;, &#x27;Mitsubishi&#x27;, &#x27;Nissan&#x27;,\n       &#x27;Renault&#x27;, &#x27;Skoda&#x27;, &#x27;Tata&#x27;, &#x27;Toyota&#x27;, &#x27;Volkswagen&#x27;, &#x27;Volvo&#x27;],\n      dtype=object),\n                          array([&#x27;Diesel&#x27;, &#x27;LPG&#x27;, &#x27;Petrol&#x27;], dtype=object)])</pre></div></div></div></div></div></div><div class=\"sk-parallel-item\"><div class=\"sk-item\"><div class=\"sk-label-container\"><div class=\"sk-label sk-toggleable\"><input class=\"sk-toggleable__control sk-hidden--visually\" id=\"sk-estimator-id-6\" type=\"checkbox\" ><label for=\"sk-estimator-id-6\" class=\"sk-toggleable__label sk-toggleable__label-arrow\">remainder</label><div class=\"sk-toggleable__content\"><pre>[&#x27;year&#x27;, &#x27;kms_driven&#x27;]</pre></div></div></div><div class=\"sk-serial\"><div class=\"sk-item\"><div class=\"sk-estimator sk-toggleable\"><input class=\"sk-toggleable__control sk-hidden--visually\" id=\"sk-estimator-id-7\" type=\"checkbox\" ><label for=\"sk-estimator-id-7\" class=\"sk-toggleable__label sk-toggleable__label-arrow\">passthrough</label><div class=\"sk-toggleable__content\"><pre>passthrough</pre></div></div></div></div></div></div></div></div><div class=\"sk-item\"><div class=\"sk-estimator sk-toggleable\"><input class=\"sk-toggleable__control sk-hidden--visually\" id=\"sk-estimator-id-8\" type=\"checkbox\" ><label for=\"sk-estimator-id-8\" class=\"sk-toggleable__label sk-toggleable__label-arrow\">LinearRegression</label><div class=\"sk-toggleable__content\"><pre>LinearRegression()</pre></div></div></div></div></div></div></div>"
          },
          "metadata": {}
        }
      ]
    },
    {
      "cell_type": "code",
      "source": "y_predit=pipe.predict(x_test)",
      "metadata": {
        "trusted": true
      },
      "execution_count": 442,
      "outputs": []
    },
    {
      "cell_type": "code",
      "source": "y_predit",
      "metadata": {
        "trusted": true
      },
      "execution_count": 443,
      "outputs": [
        {
          "execution_count": 443,
          "output_type": "execute_result",
          "data": {
            "text/plain": "array([ 102627.88726029,  271713.09648855,  631160.21350015,\n        376652.12973967,  312925.59933549,  216492.36302089,\n       1010835.39465699,  182537.63643448,  379355.60305724,\n        288767.81706998,  193569.86079921,  381484.171465  ,\n         65441.59184346,  193009.88357194,  181756.60928096,\n        657521.71455008,  395565.47016248,  188575.91184255,\n        434221.20267986,  206917.5711147 ,  367504.10246921,\n        364211.26753852,  227827.55682147,  276733.69627358,\n        126657.39593568,  500333.57542173,  150202.97490659,\n        241916.75435578,  369997.78127967,  430947.7917183 ,\n        281318.30515183,  188952.50471469,  107905.08566683,\n        271135.41677982,  468664.88521487,  242542.93655086,\n        501328.84197121,  256884.80666792,  551260.90154835,\n        711213.577736  ,  421155.14046798,  563517.65200553,\n        265597.93706758,  233675.85382715,  428350.31955531,\n        249140.51681518,  431788.776214  ,  576826.74488487,\n        538863.50183322,   86061.34145426,  430478.88796307,\n        182018.01914366,  431461.30415127,  380010.5471827 ,\n        408560.21581344,  173240.55719073,  471842.04898177,\n        709903.68948507,  102073.53583094,  263330.36002356,\n        433718.2952001 ,  150545.34067285,  590515.73247623,\n        385555.63545346,  372442.62478651,  188264.81338295,\n        252682.61516519,  456669.44743694,  188166.57176413,\n        176231.84048083,  394532.36928846,  131820.22047879,\n        421248.14053132,  215509.9468327 ,  249516.52152041,\n         67733.89628258,  223515.12118822,  135495.86690882,\n        315739.70393539,  703105.12769056,  430315.1519317 ,\n        373868.61720645,  893447.62420464,  153327.81547778,\n        244536.53085764,  283176.05144027,   81413.72848035,\n        377476.24088922,  427821.50576649,  524386.35217244,\n         88517.38192476,  553742.61093298,  100532.0660588 ,\n        554830.75834809,  314102.34362173,  304236.5408001 ,\n       2016328.92195499,  221684.19572627,  388801.60819064,\n        192954.89543961,  187749.04488415,  193406.12476785,\n        242152.84104655,  313283.6634649 ,  461007.16970459,\n        383871.0671451 ,  361956.65731071,  189394.59199938,\n        181788.78869974,   79921.24027804,  381156.69940226,\n        422913.97661301,  192954.89543961,  189640.19604643,\n        432116.24827673,  718840.15060399,  379752.00409348,\n        252191.40707109,  101206.10567547,  280173.64571122,\n       1650961.4947584 ,  251213.04746268,  456669.44743694,\n        280827.09705774, 1227932.59834621,   67733.89628258,\n        584209.46282829,  535929.74238375,  154637.70372871,\n        155947.59197964,  989916.34373974,  169531.16248249,\n        621783.55499387,  659991.94637661,  360932.30015142,\n        226250.40321399,   57909.73440062,   61675.66312204,\n         85570.13336017,  430937.04214995,  134840.92278335,\n        563926.99208395,  183869.72860196,  431788.776214  ,\n        311125.78630752,  212398.96223674,  414343.72156315,\n        465838.03393078,  478825.2476148 ,  195410.9359101 ,\n        336377.46132932,  224333.80134505,  313283.6634649 ,\n         63640.49549843,  382302.85162183,   85766.61659781,\n        221684.19572627,  454652.25221928,  173958.55542991,\n       1768570.60484851,  391257.64866113,  421318.87649934,\n        542564.28352562])"
          },
          "metadata": {}
        }
      ]
    },
    {
      "cell_type": "code",
      "source": "r2_score(y_test,y_predit)",
      "metadata": {
        "trusted": true
      },
      "execution_count": 446,
      "outputs": [
        {
          "execution_count": 446,
          "output_type": "execute_result",
          "data": {
            "text/plain": "0.6386322173784325"
          },
          "metadata": {}
        }
      ]
    },
    {
      "cell_type": "code",
      "source": "scores=[]\nfor i in range(10):\n    x_train,x_test,y_train,y_test=train_test_split(x,y,test_size=0.2,random_state=i)\n    lr=LinearRegression()\n    pipe=make_pipeline(columns_trans,lr)\n    pipe.fit(x_train,y_train)\n    y_pred=pipe.predict(x_test)\n    scores.append(r2_score(y_test,y_pred))",
      "metadata": {
        "trusted": true
      },
      "execution_count": 456,
      "outputs": []
    },
    {
      "cell_type": "code",
      "source": "scores",
      "metadata": {
        "trusted": true
      },
      "execution_count": 457,
      "outputs": [
        {
          "execution_count": 457,
          "output_type": "execute_result",
          "data": {
            "text/plain": "[0.6807994743313033,\n 0.39032928825737667,\n 0.6301122886248831,\n 0.47923004017894455,\n 0.7392315807386212,\n 0.6227042549240915,\n 0.5470931767272159,\n 0.6094002277095184,\n 0.6321506934692847,\n 0.5610052979263385]"
          },
          "metadata": {}
        }
      ]
    },
    {
      "cell_type": "code",
      "source": "npy.argmax(scores)",
      "metadata": {
        "trusted": true
      },
      "execution_count": 458,
      "outputs": [
        {
          "execution_count": 458,
          "output_type": "execute_result",
          "data": {
            "text/plain": "4"
          },
          "metadata": {}
        }
      ]
    },
    {
      "cell_type": "code",
      "source": "scores[npy.argmax(scores)]",
      "metadata": {
        "trusted": true
      },
      "execution_count": 455,
      "outputs": [
        {
          "execution_count": 455,
          "output_type": "execute_result",
          "data": {
            "text/plain": "0.6447089893662674"
          },
          "metadata": {}
        }
      ]
    },
    {
      "cell_type": "code",
      "source": " x_train,x_test,y_train,y_test=train_test_split(x,y,test_size=0.2,random_state=npy.argmax(scores))\nlr=LinearRegression()\npipe=make_pipeline(columns_trans,lr)\npipe.fit(x_train,y_train)\ny_pred=pipe.predict(x_test)\nr2_score(y_test,y_pred)",
      "metadata": {
        "trusted": true
      },
      "execution_count": 463,
      "outputs": [
        {
          "execution_count": 463,
          "output_type": "execute_result",
          "data": {
            "text/plain": "0.7392315807386212"
          },
          "metadata": {}
        }
      ]
    },
    {
      "cell_type": "code",
      "source": "import pickle",
      "metadata": {
        "trusted": true
      },
      "execution_count": 464,
      "outputs": []
    },
    {
      "cell_type": "code",
      "source": "pickle.dump(pipe,open('LinearRegressionModel.pkl','wb'))",
      "metadata": {
        "trusted": true
      },
      "execution_count": 473,
      "outputs": []
    },
    {
      "cell_type": "code",
      "source": "pipe.predict(pd.DataFrame([['Maruti Suzuki Swift','Maruti',2012,100000,'Diesel']], columns=['name','company','year','kms_driven','fuel_type']))",
      "metadata": {
        "trusted": true
      },
      "execution_count": 498,
      "outputs": [
        {
          "execution_count": 498,
          "output_type": "execute_result",
          "data": {
            "text/plain": "array([366866.63348578])"
          },
          "metadata": {}
        }
      ]
    },
    {
      "cell_type": "code",
      "source": "",
      "metadata": {},
      "execution_count": null,
      "outputs": []
    },
    {
      "cell_type": "code",
      "source": "",
      "metadata": {},
      "execution_count": null,
      "outputs": []
    }
  ]
}